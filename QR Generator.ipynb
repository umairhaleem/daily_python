{
 "cells": [
  {
   "cell_type": "code",
   "execution_count": 3,
   "id": "eb2fb7dc",
   "metadata": {},
   "outputs": [
    {
     "name": "stdout",
     "output_type": "stream",
     "text": [
      "Collecting qrcodeNote: you may need to restart the kernel to use updated packages.\n",
      "  Downloading qrcode-7.4.2-py3-none-any.whl (46 kB)\n",
      "Requirement already satisfied: colorama in c:\\users\\umair\\anaconda3\\lib\\site-packages (from qrcode) (0.4.4)\n",
      "Collecting pypng\n",
      "  Downloading pypng-0.20220715.0-py3-none-any.whl (58 kB)\n",
      "Requirement already satisfied: typing-extensions in c:\\users\\umair\\anaconda3\\lib\\site-packages (from qrcode) (4.1.1)\n",
      "Installing collected packages: pypng, qrcode\n",
      "Successfully installed pypng-0.20220715.0 qrcode-7.4.2\n",
      "\n"
     ]
    }
   ],
   "source": [
    "pip install qrcode\n"
   ]
  },
  {
   "cell_type": "code",
   "execution_count": 4,
   "id": "bb12ae0a",
   "metadata": {},
   "outputs": [],
   "source": [
    "import qrcode\n"
   ]
  },
  {
   "cell_type": "code",
   "execution_count": 7,
   "id": "204df859",
   "metadata": {},
   "outputs": [],
   "source": [
    "img = qrcode.make(\"https://www.youtube.com/watch?v=FOGRHBp6lvM&list=PLjVLYmrlmjGfAUdLiF2bQ-0l8SwNZ1sBl\")"
   ]
  },
  {
   "cell_type": "code",
   "execution_count": 8,
   "id": "20d4c94f",
   "metadata": {},
   "outputs": [],
   "source": [
    "img.save(\"QR Code.png\")"
   ]
  }
 ],
 "metadata": {
  "kernelspec": {
   "display_name": "Python 3 (ipykernel)",
   "language": "python",
   "name": "python3"
  },
  "language_info": {
   "codemirror_mode": {
    "name": "ipython",
    "version": 3
   },
   "file_extension": ".py",
   "mimetype": "text/x-python",
   "name": "python",
   "nbconvert_exporter": "python",
   "pygments_lexer": "ipython3",
   "version": "3.9.12"
  }
 },
 "nbformat": 4,
 "nbformat_minor": 5
}
