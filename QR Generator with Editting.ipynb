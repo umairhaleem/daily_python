{
 "cells": [
  {
   "cell_type": "code",
   "execution_count": 4,
   "id": "e5851172",
   "metadata": {},
   "outputs": [],
   "source": [
    "import qrcode\n",
    "from PIL import Image"
   ]
  },
  {
   "cell_type": "code",
   "execution_count": 12,
   "id": "3e7e0af3",
   "metadata": {},
   "outputs": [],
   "source": [
    "qr= qrcode.QRCode(version=1, error_correction=qrcode.constants.ERROR_CORRECT_H, box_size=100, border=4)\n",
    "qr.add_data=(\"https://www.youtube.com/watch?v=FOGRHBp6lvM&list=PLjVLYmrlmjGfAUdLiF2bQ-0l8SwNZ1sBl\")\n",
    "qr.make(fit=True)\n",
    "img=qr.make_image(fill_color=\"black\", back_color=\"white\")\n",
    "img.save(\"QR Generator with Editting.png\")"
   ]
  }
 ],
 "metadata": {
  "kernelspec": {
   "display_name": "Python 3 (ipykernel)",
   "language": "python",
   "name": "python3"
  },
  "language_info": {
   "codemirror_mode": {
    "name": "ipython",
    "version": 3
   },
   "file_extension": ".py",
   "mimetype": "text/x-python",
   "name": "python",
   "nbconvert_exporter": "python",
   "pygments_lexer": "ipython3",
   "version": "3.9.12"
  }
 },
 "nbformat": 4,
 "nbformat_minor": 5
}
