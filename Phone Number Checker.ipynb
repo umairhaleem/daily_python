{
 "cells": [
  {
   "cell_type": "code",
   "execution_count": null,
   "id": "1754cdbf",
   "metadata": {},
   "outputs": [],
   "source": [
    "import phonenumbers\n",
    "from phonenumbers import carrier, geocoder, timezone,carrierdata\n",
    "number= input(\"Enter your phone number: \")\n",
    "phone= phonenumbers.parse(number)\n",
    "time= timezone.time_zones_for_number(phone)\n",
    "car= carrier.name_for_number(phone,\"en\")\n",
    "reg= geocoder.description_for_number(phone,\"en\")\n",
    "print(phone)\n",
    "print(time)\n",
    "print(car)\n",
    "print(reg)"
   ]
  }
 ],
 "metadata": {
  "kernelspec": {
   "display_name": "Python 3 (ipykernel)",
   "language": "python",
   "name": "python3"
  },
  "language_info": {
   "codemirror_mode": {
    "name": "ipython",
    "version": 3
   },
   "file_extension": ".py",
   "mimetype": "text/x-python",
   "name": "python",
   "nbconvert_exporter": "python",
   "pygments_lexer": "ipython3",
   "version": "3.9.12"
  }
 },
 "nbformat": 4,
 "nbformat_minor": 5
}
