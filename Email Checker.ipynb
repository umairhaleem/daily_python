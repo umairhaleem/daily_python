{
 "cells": [
  {
   "cell_type": "code",
   "execution_count": null,
   "id": "3a182ae9",
   "metadata": {},
   "outputs": [],
   "source": [
    "email=input()\n",
    "x,y=0,0\n",
    "if (email[-4]==\".\") ^ (email[-3]==\".\"):\n",
    "    if (\"@\" in email) and (email.count(\"@\")==1):\n",
    "        if len(email)>=6:\n",
    "            if email[0].isalpha():\n",
    "                for i in email:\n",
    "                    if i==\" \":\n",
    "                        x=1\n",
    "                    else:\n",
    "                        continue\n",
    "                if x==0:\n",
    "                    for j in email:\n",
    "                        if j.isdigit()==True or j.isalpha()==True or j==\"@\" or j==\".\" or j==\"_\":\n",
    "                            continue\n",
    "                        else:\n",
    "                            y=1\n",
    "                    if y==0:\n",
    "                        print(\"Email is Correct\")\n",
    "                    else:\n",
    "                        print(\"Wrong Email: Invalid character\")\n",
    "                else:\n",
    "                    print(\"Wrong Email: Invalid space in email\") \n",
    "            else:\n",
    "                print(\"Wrong Email: First letter is not alphabet\")\n",
    "        else:\n",
    "            print(\"Wrong Email: Minimum number of alphabets/digits not present\")\n",
    "    else:\n",
    "        print (\"Wrong Email: Insert @ one time\")\n",
    "else:\n",
    "    print(\"Wrong Email: . is not used in correct place\")"
   ]
  }
 ],
 "metadata": {
  "kernelspec": {
   "display_name": "Python 3 (ipykernel)",
   "language": "python",
   "name": "python3"
  },
  "language_info": {
   "codemirror_mode": {
    "name": "ipython",
    "version": 3
   },
   "file_extension": ".py",
   "mimetype": "text/x-python",
   "name": "python",
   "nbconvert_exporter": "python",
   "pygments_lexer": "ipython3",
   "version": "3.9.12"
  }
 },
 "nbformat": 4,
 "nbformat_minor": 5
}
